{
  "nbformat": 4,
  "nbformat_minor": 0,
  "metadata": {
    "colab": {
      "name": "Gopisetty_Nagendra.textfile",
      "provenance": [],
      "collapsed_sections": []
    },
    "kernelspec": {
      "name": "python3",
      "display_name": "Python 3"
    },
    "language_info": {
      "name": "python"
    }
  },
  "cells": [
    {
      "cell_type": "code",
      "metadata": {
        "id": "UQINCadTR9NQ",
        "colab": {
          "base_uri": "https://localhost:8080/"
        },
        "outputId": "9c44db20-d8ce-4832-9459-deeae94ae4a8"
      },
      "source": [
        " import requests\n",
        "from datetime import datetime\n",
        "api_key = '87d845b0b6cf29baa1a73cc34b067a95'\n",
        "location = input(\"Enter the city name: \")\n",
        " \n",
        " \n",
        "complete_api_link = \"https://api.openweathermap.org/data/2.5/weather?q=\"+location+\"&appid=\"+api_key\n",
        "api_link = requests.get(complete_api_link)\n",
        "api_data = api_link.json()\n",
        " \n",
        "temp_city = ((api_data['main']['temp']) - 273.15)\n",
        "weather_desc = api_data['weather'][0]['description']\n",
        "hmdt = api_data['main']['humidity']\n",
        "wind_spd = api_data['wind']['speed']\n",
        "date_time = datetime.now().strftime(\"%d %b %Y | %I:%M:%S %p\")\n",
        " \n",
        "print (\"-------------------------------------------------------------\")\n",
        "print (\"Weather Stats for - {}  || {}\".format(location.upper(), date_time))\n",
        "print (\"-------------------------------------------------------------\")\n",
        " \n",
        " \n",
        "print (\"Current temperature is: {:.2f} deg C\".format(temp_city))\n",
        "print (\"Current weather desc  :\",weather_desc)\n",
        "print (\"Current Humidity      :\",hmdt, '%')\n",
        "print (\"Current wind speed    :\",wind_spd ,'kmph')"
      ],
      "execution_count": 4,
      "outputs": [
        {
          "output_type": "stream",
          "text": [
            "Enter the city name: kurnool\n",
            "-------------------------------------------------------------\n",
            "Weather Stats for - KURNOOL  || 21 Jun 2021 | 06:25:33 PM\n",
            "-------------------------------------------------------------\n",
            "Current temperature is: 31.44 deg C\n",
            "Current weather desc  : overcast clouds\n",
            "Current Humidity      : 43 %\n",
            "Current wind speed    : 8.04 kmph\n"
          ],
          "name": "stdout"
        }
      ]
    },
    {
      "cell_type": "markdown",
      "metadata": {
        "id": "mniZ_lpc0-we"
      },
      "source": [
        "Name of the city : Kurnool\n",
        "weather stats for kurnool  || 21 Jun 2021 | 06:25:33 PM\n",
        "Current temperature : 31.44 deg C\n",
        "Current weather desc: overcast clouds\n",
        "Current Humidity    : 43%\n",
        "Current wind speed  : 8.04 kmph\n"
      ]
    },
    {
      "cell_type": "markdown",
      "metadata": {
        "id": "YerwOR7T0ia7"
      },
      "source": [
        ""
      ]
    },
    {
      "cell_type": "markdown",
      "metadata": {
        "id": "90xi6pS-0fkN"
      },
      "source": [
        ""
      ]
    }
  ]
}